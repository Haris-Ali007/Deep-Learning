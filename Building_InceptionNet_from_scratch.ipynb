{
  "nbformat": 4,
  "nbformat_minor": 0,
  "metadata": {
    "colab": {
      "name": "Building InceptionNet from scratch.ipynb",
      "provenance": [],
      "collapsed_sections": [],
      "authorship_tag": "ABX9TyMFieFN/vUMvNRpHi5EkSMS",
      "include_colab_link": true
    },
    "kernelspec": {
      "name": "python3",
      "display_name": "Python 3"
    },
    "language_info": {
      "name": "python"
    }
  },
  "cells": [
    {
      "cell_type": "markdown",
      "metadata": {
        "id": "view-in-github",
        "colab_type": "text"
      },
      "source": [
        "<a href=\"https://colab.research.google.com/github/Haris-Ali007/Deep-Learning/blob/main/Building_InceptionNet_from_scratch.ipynb\" target=\"_parent\"><img src=\"https://colab.research.google.com/assets/colab-badge.svg\" alt=\"Open In Colab\"/></a>"
      ]
    },
    {
      "cell_type": "code",
      "metadata": {
        "id": "aTShIInb6yqc"
      },
      "source": [
        "import tensorflow as tf\n",
        "from tensorflow import keras"
      ],
      "execution_count": null,
      "outputs": []
    },
    {
      "cell_type": "code",
      "metadata": {
        "id": "WMFbFgSZ66yD"
      },
      "source": [
        "class InceptionUnit(keras.layers.Layer):\n",
        "  def __init__(self, filters, activation='relu', **kwargs):\n",
        "    super().__init__(**kwargs)\n",
        "    self.filters = filters\n",
        "    self.activation = keras.activations.get(activation)\n",
        "\n",
        "    self.layers = [\n",
        "           keras.layers.Conv2D(filters=self.filters[0], kernel_size=1, \n",
        "                               padding='SAME'),\n",
        "           self.activation,\n",
        "           keras.layers.Conv2D(filters=self.filters[1], kernel_size=1,\n",
        "                               padding='SAME'),\n",
        "           self.activation,\n",
        "           keras.layers.Conv2D(filters=self.filters[2], kernel_size=3,\n",
        "                               padding='SAME'),\n",
        "           self.activation,\n",
        "           keras.layers.Conv2D(filters=self.filters[3], kernel_size=1,\n",
        "                               padding='SAME'),\n",
        "           self.activation,\n",
        "           keras.layers.Conv2D(filters=self.filters[4], kernel_size=5,\n",
        "                               padding='SAME'),\n",
        "           self.activation,\n",
        "           keras.layers.MaxPooling2D(pool_size=(3, 3), strides=1,\n",
        "                                     padding='SAME'),\n",
        "           keras.layers.Conv2D(filters=self.filters[5], kernel_size=1,\n",
        "                               padding='SAME'),\n",
        "           self.activation\n",
        "    ]\n",
        "\n",
        "  def call(self, inputs):\n",
        "    out1 = self.layers[0](inputs)\n",
        "    out1 = self.layers[1](out1)\n",
        "\n",
        "    out2 = self.layers[2](inputs)\n",
        "    out2 = self.layers[3](out2)\n",
        "    out2 = self.layers[4](out2)\n",
        "    out2 = self.layers[5](out2)\n",
        "\n",
        "    out3 = self.layers[6](inputs)\n",
        "    out3 = self.layers[7](out3)\n",
        "    out3 = self.layers[8](out3)\n",
        "    out3 = self.layers[9](out3)\n",
        "\n",
        "    out4 = self.layers[10](inputs)\n",
        "    out4 = self.layers[11](out4)\n",
        "    out4 = self.layers[12](out4)\n",
        "    \n",
        "    out = keras.layers.concatenate([out1, out2, out3, out4])\n",
        "    return out"
      ],
      "execution_count": null,
      "outputs": []
    },
    {
      "cell_type": "code",
      "metadata": {
        "id": "w4IHvp9BYusr"
      },
      "source": [
        "keras.backend.clear_session()\n",
        "tf.random.set_seed(42)\n",
        "\n",
        "filters = [[64, 96, 128, 16, 32, 32],\n",
        "           [128, 128, 192, 32, 96, 64],\n",
        "           [192, 96, 208, 16, 48, 64],\n",
        "           [160, 112, 224, 24, 64, 64],\n",
        "           [128, 128, 256, 24, 64, 64],\n",
        "           [112, 144, 288, 32, 64, 64],\n",
        "           [256, 160, 320, 32, 128, 128],\n",
        "           [256, 160, 320, 32, 128, 128],\n",
        "           [384, 192, 384, 48, 128, 128]]\n",
        "\n",
        "model = keras.models.Sequential()\n",
        "\n",
        "model.add(keras.layers.InputLayer(input_shape=(224, 224, 3)))\n",
        "model.add(keras.layers.Conv2D(filters=64, kernel_size=7, strides=2, \n",
        "                              padding='SAME', activation='relu'))\n",
        "model.add(keras.layers.BatchNormalization())\n",
        "model.add(keras.layers.MaxPool2D(pool_size=(3, 3), strides=2, padding='SAME'))\n",
        "model.add(keras.layers.Conv2D(filters=64, kernel_size=1, activation='relu'))\n",
        "model.add(keras.layers.BatchNormalization())\n",
        "model.add(keras.layers.Conv2D(filters=192, kernel_size=3, strides=1, padding='SAME', \n",
        "                              activation='relu'))\n",
        "model.add(keras.layers.BatchNormalization())\n",
        "model.add(keras.layers.MaxPool2D(pool_size=(3, 3), strides=2, padding='SAME'))\n",
        "model.add(InceptionUnit(filters[0]))\n",
        "model.add(InceptionUnit(filters[1]))\n",
        "model.add(keras.layers.MaxPool2D(pool_size=(3, 3), strides=2, padding='SAME'))\n",
        "model.add(InceptionUnit(filters[2]))\n",
        "model.add(InceptionUnit(filters[3]))\n",
        "model.add(InceptionUnit(filters[4]))\n",
        "model.add(InceptionUnit(filters[5]))\n",
        "model.add(InceptionUnit(filters[6]))\n",
        "model.add(keras.layers.MaxPool2D(pool_size=(3, 3), strides=2, padding='SAME'))\n",
        "model.add(InceptionUnit(filters[7]))\n",
        "model.add(InceptionUnit(filters[8]))\n",
        "model.add(keras.layers.GlobalAveragePooling2D())\n",
        "model.add(keras.layers.Dropout(rate=0.4))\n",
        "model.add(keras.layers.Flatten())\n",
        "model.add(keras.layers.Dense(units=1000, activation='softmax'))"
      ],
      "execution_count": null,
      "outputs": []
    },
    {
      "cell_type": "code",
      "metadata": {
        "colab": {
          "base_uri": "https://localhost:8080/"
        },
        "id": "MdJaqa75fai8",
        "outputId": "4cd73493-2bb5-49b3-ced8-90322d492c41"
      },
      "source": [
        "model.summary()"
      ],
      "execution_count": null,
      "outputs": [
        {
          "output_type": "stream",
          "name": "stdout",
          "text": [
            "Model: \"sequential\"\n",
            "_________________________________________________________________\n",
            " Layer (type)                Output Shape              Param #   \n",
            "=================================================================\n",
            " conv2d (Conv2D)             (None, 112, 112, 64)      9472      \n",
            "                                                                 \n",
            " batch_normalization (BatchN  (None, 112, 112, 64)     256       \n",
            " ormalization)                                                   \n",
            "                                                                 \n",
            " max_pooling2d (MaxPooling2D  (None, 56, 56, 64)       0         \n",
            " )                                                               \n",
            "                                                                 \n",
            " conv2d_1 (Conv2D)           (None, 56, 56, 64)        4160      \n",
            "                                                                 \n",
            " batch_normalization_1 (Batc  (None, 56, 56, 64)       256       \n",
            " hNormalization)                                                 \n",
            "                                                                 \n",
            " conv2d_2 (Conv2D)           (None, 56, 56, 192)       110784    \n",
            "                                                                 \n",
            " batch_normalization_2 (Batc  (None, 56, 56, 192)      768       \n",
            " hNormalization)                                                 \n",
            "                                                                 \n",
            " max_pooling2d_1 (MaxPooling  (None, 28, 28, 192)      0         \n",
            " 2D)                                                             \n",
            "                                                                 \n",
            " inception_unit (InceptionUn  (None, 28, 28, 256)      163696    \n",
            " it)                                                             \n",
            "                                                                 \n",
            " inception_unit_1 (Inception  (None, 28, 28, 480)      388736    \n",
            " Unit)                                                           \n",
            "                                                                 \n",
            " max_pooling2d_4 (MaxPooling  (None, 14, 14, 480)      0         \n",
            " 2D)                                                             \n",
            "                                                                 \n",
            " inception_unit_2 (Inception  (None, 14, 14, 512)      376176    \n",
            " Unit)                                                           \n",
            "                                                                 \n",
            " inception_unit_3 (Inception  (None, 14, 14, 512)      449160    \n",
            " Unit)                                                           \n",
            "                                                                 \n",
            " inception_unit_4 (Inception  (None, 14, 14, 512)      510104    \n",
            " Unit)                                                           \n",
            "                                                                 \n",
            " inception_unit_5 (Inception  (None, 14, 14, 528)      605376    \n",
            " Unit)                                                           \n",
            "                                                                 \n",
            " inception_unit_6 (Inception  (None, 14, 14, 832)      868352    \n",
            " Unit)                                                           \n",
            "                                                                 \n",
            " max_pooling2d_10 (MaxPoolin  (None, 7, 7, 832)        0         \n",
            " g2D)                                                            \n",
            "                                                                 \n",
            " inception_unit_7 (Inception  (None, 7, 7, 832)        1043456   \n",
            " Unit)                                                           \n",
            "                                                                 \n",
            " inception_unit_8 (Inception  (None, 7, 7, 1024)       1444080   \n",
            " Unit)                                                           \n",
            "                                                                 \n",
            " global_average_pooling2d (G  (None, 1024)             0         \n",
            " lobalAveragePooling2D)                                          \n",
            "                                                                 \n",
            " dropout (Dropout)           (None, 1024)              0         \n",
            "                                                                 \n",
            " flatten (Flatten)           (None, 1024)              0         \n",
            "                                                                 \n",
            " dense (Dense)               (None, 1000)              1025000   \n",
            "                                                                 \n",
            "=================================================================\n",
            "Total params: 6,999,832\n",
            "Trainable params: 6,999,192\n",
            "Non-trainable params: 640\n",
            "_________________________________________________________________\n"
          ]
        }
      ]
    },
    {
      "cell_type": "code",
      "metadata": {
        "id": "gjAalZ5Xmd1Y"
      },
      "source": [
        ""
      ],
      "execution_count": null,
      "outputs": []
    }
  ]
}