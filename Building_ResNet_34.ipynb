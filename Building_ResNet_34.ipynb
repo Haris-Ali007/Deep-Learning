{
  "nbformat": 4,
  "nbformat_minor": 0,
  "metadata": {
    "colab": {
      "name": "Building ResNet-34.ipynb",
      "provenance": [],
      "collapsed_sections": [],
      "authorship_tag": "ABX9TyMndR0immbCVU6Z+22WyWDR"
    },
    "kernelspec": {
      "name": "python3",
      "display_name": "Python 3"
    },
    "language_info": {
      "name": "python"
    }
  },
  "cells": [
    {
      "cell_type": "markdown",
      "metadata": {
        "id": "8QAWNjizy_3O"
      },
      "source": [
        "\n",
        "[![Open In Colab](https://colab.research.google.com/assets/colab-badge.svg)](https://colab.research.google.com/github/googlecolab/colabtools/blob/master/notebooks/colab-github-demo.ipynb)"
      ]
    },
    {
      "cell_type": "code",
      "metadata": {
        "id": "FXAYznchCeud"
      },
      "source": [
        "import tensorflow as tf\n",
        "from tensorflow import keras"
      ],
      "execution_count": null,
      "outputs": []
    },
    {
      "cell_type": "code",
      "metadata": {
        "id": "XVc40Qi1NJ50"
      },
      "source": [
        "class ResidualUnit(keras.layers.Layer):\n",
        "  def __init__(self, filters, strides, activation=\"relu\", **kwargs):\n",
        "    super().__init__(**kwargs)\n",
        "    self.activation = keras.activations.get(activation)\n",
        "    self.main_layers = [\n",
        "    keras.layers.Conv2D(filters, 3, strides= strides, padding='SAME', \n",
        "                        use_bias= False),\n",
        "    keras.layers.BatchNormalization(),\n",
        "    self.activation,\n",
        "    keras.layers.Conv2D(filters, 3, strides= 1, padding='SAME', \n",
        "                        use_bias= False),\n",
        "    keras.layers.BatchNormalization(),\n",
        "    ]\n",
        "    ####\n",
        "    #skip layers are 1x1 convulations to reduce input resolution when required\n",
        "    ####\n",
        "    self.skip_layers = [] \n",
        "    if strides > 1:\n",
        "      self.skip_layers = [\n",
        "      keras.layers.Conv2D(filters, 1, strides= strides, padding='SAME', \n",
        "                        use_bias= False),\n",
        "      keras.layers.BatchNormalization(), \n",
        "      ]\n",
        "\n",
        "  def call(self, inputs):\n",
        "    Z = inputs\n",
        "    for layer in self.main_layers:\n",
        "      Z = layer(Z)\n",
        "    skip_Z = inputs\n",
        "    for layer in self.skip_layers:\n",
        "      skip_Z = layer(skip_Z)\n",
        "    return self.activation(skip_Z + Z)"
      ],
      "execution_count": null,
      "outputs": []
    },
    {
      "cell_type": "code",
      "metadata": {
        "id": "Uy7hSlkFPaiV"
      },
      "source": [
        "model = keras.models.Sequential()\n",
        "model.add(keras.layers.Conv2D(64, 7, strides=2, input_shape=[224, 224, 3], \n",
        "                              padding='SAME', use_bias=False))\n",
        "model.add(keras.layers.BatchNormalization())\n",
        "model.add(keras.layers.Activation('relu'))\n",
        "model.add(keras.layers.MaxPool2D(pool_size=3, strides=2, padding='SAME'))\n",
        "prev_filter= 64\n",
        "for filter in [64]*3 + [128]*4 + [256]*6 + [512]*3:\n",
        "  strides=1 if filter == prev_filter else 2\n",
        "  model.add(ResidualUnit(filter, strides))\n",
        "  prev_filter = filter\n",
        "model.add(keras.layers.GlobalAvgPool2D())\n",
        "model.add(keras.layers.Flatten())\n",
        "model.add(keras.layers.Dense(10, activation='softmax'))"
      ],
      "execution_count": null,
      "outputs": []
    },
    {
      "cell_type": "code",
      "metadata": {
        "colab": {
          "base_uri": "https://localhost:8080/"
        },
        "id": "GOLSkzvzNgPo",
        "outputId": "84809bab-3ca5-4c1b-beb9-4915c718aead"
      },
      "source": [
        "model.summary()"
      ],
      "execution_count": null,
      "outputs": [
        {
          "output_type": "stream",
          "text": [
            "Model: \"sequential_3\"\n",
            "_________________________________________________________________\n",
            "Layer (type)                 Output Shape              Param #   \n",
            "=================================================================\n",
            "conv2d_5 (Conv2D)            (None, 112, 112, 64)      9408      \n",
            "_________________________________________________________________\n",
            "batch_normalization_4 (Batch (None, 112, 112, 64)      256       \n",
            "_________________________________________________________________\n",
            "activation_1 (Activation)    (None, 112, 112, 64)      0         \n",
            "_________________________________________________________________\n",
            "max_pooling2d_1 (MaxPooling2 (None, 56, 56, 64)        0         \n",
            "_________________________________________________________________\n",
            "residual_unit_1 (ResidualUni (None, 56, 56, 64)        74240     \n",
            "_________________________________________________________________\n",
            "residual_unit_2 (ResidualUni (None, 56, 56, 64)        74240     \n",
            "_________________________________________________________________\n",
            "residual_unit_3 (ResidualUni (None, 56, 56, 64)        74240     \n",
            "_________________________________________________________________\n",
            "residual_unit_4 (ResidualUni (None, 28, 28, 128)       230912    \n",
            "_________________________________________________________________\n",
            "residual_unit_5 (ResidualUni (None, 28, 28, 128)       295936    \n",
            "_________________________________________________________________\n",
            "residual_unit_6 (ResidualUni (None, 28, 28, 128)       295936    \n",
            "_________________________________________________________________\n",
            "residual_unit_7 (ResidualUni (None, 28, 28, 128)       295936    \n",
            "_________________________________________________________________\n",
            "residual_unit_8 (ResidualUni (None, 14, 14, 256)       920576    \n",
            "_________________________________________________________________\n",
            "residual_unit_9 (ResidualUni (None, 14, 14, 256)       1181696   \n",
            "_________________________________________________________________\n",
            "residual_unit_10 (ResidualUn (None, 14, 14, 256)       1181696   \n",
            "_________________________________________________________________\n",
            "residual_unit_11 (ResidualUn (None, 14, 14, 256)       1181696   \n",
            "_________________________________________________________________\n",
            "residual_unit_12 (ResidualUn (None, 14, 14, 256)       1181696   \n",
            "_________________________________________________________________\n",
            "residual_unit_13 (ResidualUn (None, 14, 14, 256)       1181696   \n",
            "_________________________________________________________________\n",
            "residual_unit_14 (ResidualUn (None, 7, 7, 512)         3676160   \n",
            "_________________________________________________________________\n",
            "residual_unit_15 (ResidualUn (None, 7, 7, 512)         4722688   \n",
            "_________________________________________________________________\n",
            "residual_unit_16 (ResidualUn (None, 7, 7, 512)         4722688   \n",
            "_________________________________________________________________\n",
            "global_average_pooling2d (Gl (None, 512)               0         \n",
            "_________________________________________________________________\n",
            "flatten (Flatten)            (None, 512)               0         \n",
            "_________________________________________________________________\n",
            "dense (Dense)                (None, 10)                5130      \n",
            "=================================================================\n",
            "Total params: 21,306,826\n",
            "Trainable params: 21,289,802\n",
            "Non-trainable params: 17,024\n",
            "_________________________________________________________________\n"
          ],
          "name": "stdout"
        }
      ]
    },
    {
      "cell_type": "markdown",
      "metadata": {
        "id": "FXZfBnF5S4MO"
      },
      "source": [
        "Credits: [Hands-On Machine Learning with Scikit-Learn, Keras and TensorFlow](https://www.amazon.com/Hands-Machine-Learning-Scikit-Learn-TensorFlow-dp-1492032646/dp/1492032646/ref=dp_ob_image_bkhttps://www.amazon.com/Hands-Machine-Learning-Scikit-Learn-TensorFlow-dp-1492032646/dp/1492032646/ref=dp_ob_image_bk)"
      ]
    },
    {
      "cell_type": "code",
      "metadata": {
        "id": "EdzOgs2IUGjq"
      },
      "source": [
        ""
      ],
      "execution_count": null,
      "outputs": []
    }
  ]
}